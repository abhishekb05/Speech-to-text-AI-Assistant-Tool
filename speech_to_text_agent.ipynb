{
  "cells": [
    {
      "cell_type": "code",
      "execution_count": null,
      "metadata": {
        "id": "ur8xi4C7S06n"
      },
      "outputs": [],
      "source": [
        "# Copyright 2024 Google LLC\n",
        "#\n",
        "# Licensed under the Apache License, Version 2.0 (the \"License\");\n",
        "# you may not use this file except in compliance with the License.\n",
        "# You may obtain a copy of the License at\n",
        "#\n",
        "#     https://www.apache.org/licenses/LICENSE-2.0\n",
        "#\n",
        "# Unless required by applicable law or agreed to in writing, software\n",
        "# distributed under the License is distributed on an \"AS IS\" BASIS,\n",
        "# WITHOUT WARRANTIES OR CONDITIONS OF ANY KIND, either express or implied.\n",
        "# See the License for the specific language governing permissions and\n",
        "# limitations under the License."
      ]
    },
    {
      "cell_type": "markdown",
      "metadata": {
        "id": "JAPoU8Sm5E6e"
      },
      "source": [
        "**bold text**# Building and Deploying a LangGraph Application with Reasoning Engine in Vertex AI\n",
        "\n",
        "<table align=\"left\">\n",
        "  <td style=\"text-align: center\">\n",
        "    <a href=\"https://colab.research.google.com/github/GoogleCloudPlatform/generative-ai/blob/main/gemini/reasoning-engine/tutorial_langgraph.ipynb\">\n",
        "      <img src=\"https://cloud.google.com/ml-engine/images/colab-logo-32px.png\" alt=\"Google Colaboratory logo\"><br> Open in Colab\n",
        "    </a>\n",
        "  </td>\n",
        "  <td style=\"text-align: center\">\n",
        "    <a href=\"https://console.cloud.google.com/vertex-ai/colab/import/https:%2F%2Fraw.githubusercontent.com%2FGoogleCloudPlatform%2Fgenerative-ai%2Fmain%2Fgemini%2Freasoning-engine%2Ftutorial_langgraph.ipynb\">\n",
        "      <img width=\"32px\" src=\"https://cloud.google.com/ml-engine/images/colab-enterprise-logo-32px.png\" alt=\"Google Cloud Colab Enterprise logo\"><br> Open in Colab Enterprise\n",
        "    </a>\n",
        "  </td>    \n",
        "  <td style=\"text-align: center\">\n",
        "    <a href=\"https://console.cloud.google.com/vertex-ai/workbench/deploy-notebook?download_url=https://raw.githubusercontent.com/GoogleCloudPlatform/generative-ai/main/gemini/reasoning-engine/tutorial_langgraph.ipynb\">\n",
        "      <img src=\"https://lh3.googleusercontent.com/UiNooY4LUgW_oTvpsNhPpQzsstV5W8F7rYgxgGBD85cWJoLmrOzhVs_ksK_vgx40SHs7jCqkTkCk=e14-rj-sc0xffffff-h130-w32\" alt=\"Vertex AI logo\"><br> Open in Workbench\n",
        "    </a>\n",
        "  </td>\n",
        "  <td style=\"text-align: center\">\n",
        "    <a href=\"https://github.com/GoogleCloudPlatform/generative-ai/blob/main/gemini/reasoning-engine/tutorial_langgraph.ipynb\">\n",
        "      <img src=\"https://cloud.google.com/ml-engine/images/github-logo-32px.png\" alt=\"GitHub logo\"><br> View on GitHub\n",
        "    </a>\n",
        "  </td>\n",
        "</table>\n",
        "\n",
        "<div style=\"clear: both;\"></div>\n",
        "\n",
        "<b>Share to:</b>\n",
        "\n",
        "<a href=\"https://www.linkedin.com/sharing/share-offsite/?url=https%3A//github.com/GoogleCloudPlatform/generative-ai/blob/main/gemini/reasoning-engine/tutorial_langgraph.ipynb\" target=\"_blank\">\n",
        "  <img width=\"20px\" src=\"https://upload.wikimedia.org/wikipedia/commons/8/81/LinkedIn_icon.svg\" alt=\"LinkedIn logo\">\n",
        "</a>\n",
        "\n",
        "<a href=\"https://bsky.app/intent/compose?text=https%3A//github.com/GoogleCloudPlatform/generative-ai/blob/main/gemini/reasoning-engine/tutorial_langgraph.ipynb\" target=\"_blank\">\n",
        "  <img width=\"20px\" src=\"https://upload.wikimedia.org/wikipedia/commons/7/7a/Bluesky_Logo.svg\" alt=\"Bluesky logo\">\n",
        "</a>\n",
        "\n",
        "<a href=\"https://twitter.com/intent/tweet?url=https%3A//github.com/GoogleCloudPlatform/generative-ai/blob/main/gemini/reasoning-engine/tutorial_langgraph.ipynb\" target=\"_blank\">\n",
        "  <img width=\"20px\" src=\"https://upload.wikimedia.org/wikipedia/commons/5/5a/X_icon_2.svg\" alt=\"X logo\">\n",
        "</a>\n",
        "\n",
        "<a href=\"https://reddit.com/submit?url=https%3A//github.com/GoogleCloudPlatform/generative-ai/blob/main/gemini/reasoning-engine/tutorial_langgraph.ipynb\" target=\"_blank\">\n",
        "  <img width=\"20px\" src=\"https://redditinc.com/hubfs/Reddit%20Inc/Brand/Reddit_Logo.png\" alt=\"Reddit logo\">\n",
        "</a>\n",
        "\n",
        "<a href=\"https://www.facebook.com/sharer/sharer.php?u=https%3A//github.com/GoogleCloudPlatform/generative-ai/blob/main/gemini/reasoning-engine/tutorial_langgraph.ipynb\" target=\"_blank\">\n",
        "  <img width=\"20px\" src=\"https://upload.wikimedia.org/wikipedia/commons/5/51/Facebook_f_logo_%282019%29.svg\" alt=\"Facebook logo\">\n",
        "</a>            "
      ]
    },
    {
      "cell_type": "markdown",
      "metadata": {
        "id": "84f0f73a0f76"
      },
      "source": [
        "| | |\n",
        "|-|-|\n",
        "| Author(s) | [Kristopher Overholt](https://github.com/koverholt) |"
      ]
    },
    {
      "cell_type": "markdown",
      "metadata": {
        "id": "tvgnzT1CKxrO"
      },
      "source": [
        "## Overview\n",
        "\n",
        "[Reasoning Engine](https://cloud.google.com/vertex-ai/generative-ai/docs/reasoning-engine/overview) (LangChain on Vertex AI) is a managed service that helps you to build and deploy an agent reasoning framework. [LangGraph](https://langchain-ai.github.io/langgraph/) is a library for building stateful, multi-actor applications with LLMs, used to create agent and multi-agent workflows.\n",
        "\n",
        "This notebook demonstrates how to build, deploy, and test a simple LangGraph application using [Reasoning Engine](https://cloud.google.com/vertex-ai/generative-ai/docs/reasoning-engine/overview) in Vertex AI. You'll learn how to combine LangGraph's workflow orchestration with the scalability of Vertex AI, which enables you to build custom generative AI applications.\n",
        "\n",
        "Note that the approach used in this notebook defines a [custom application template in Reasoning Engine](https://cloud.google.com/vertex-ai/generative-ai/docs/reasoning-engine/customize), which can be extended to LangChain or other orchestration frameworks. If just want to use LangChain on Vertex AI to build agentic generative AI applications, refer to the documentation for [developing with the LangChain template in Reasoning Engine](https://cloud.google.com/vertex-ai/generative-ai/docs/reasoning-engine/develop).\n",
        "\n",
        "This notebook covers the following steps:\n",
        "\n",
        "- **Define Tools**: Create custom Python functions to act as tools your AI application can use.\n",
        "- **Define Router**: Set up routing logic to control conversation flow and tool selection.\n",
        "- **Build a LangGraph Application**: Structure your application using LangGraph, including the Gemini model and custom tools that you define.\n",
        "- **Local Testing**: Test your LangGraph application locally to ensure functionality.\n",
        "- **Deploying to Vertex AI**: Seamlessly deploy your LangGraph application to Reasoning Engine for scalable execution.\n",
        "- **Remote Testing**: Interact with your deployed application through Vertex AI, testing its functionality in a production-like environment.\n",
        "- **Cleaning Up Resources**: Delete your deployed application on Vertex AI to avoid incurring unnecessary charges.\n",
        "\n",
        "By the end of this notebook, you'll have the skills and knowledge to build and deploy your own custom generative AI applications using LangGraph, Reasoning Engine, and Vertex AI."
      ]
    },
    {
      "cell_type": "markdown",
      "metadata": {
        "id": "61RBz8LLbxCR"
      },
      "source": [
        "## Get started"
      ]
    },
    {
      "cell_type": "markdown",
      "metadata": {
        "id": "No17Cw5hgx12"
      },
      "source": [
        "### Install Vertex AI SDK and other required packages"
      ]
    },
    {
      "cell_type": "code",
      "execution_count": null,
      "metadata": {
        "id": "tFy3H3aPgx12"
      },
      "outputs": [],
      "source": [
        "%pip install --upgrade --user --quiet \\\n",
        "    \"google-cloud-aiplatform[langchain,reasoningengine]\" \\\n",
        "    cloudpickle==3.0.0 \\\n",
        "    \"pydantic>=2.10\" \\\n",
        "    langgraph \\\n",
        "    httpx"
      ]
    },
    {
      "cell_type": "code",
      "source": [
        "!pip show langgraph"
      ],
      "metadata": {
        "colab": {
          "base_uri": "https://localhost:8080/"
        },
        "id": "ZdoN0DfWAx6v",
        "outputId": "8c307357-195e-4f2a-c320-04f33988b08b"
      },
      "execution_count": null,
      "outputs": [
        {
          "output_type": "stream",
          "name": "stdout",
          "text": [
            "Name: langgraph\n",
            "Version: 0.2.76\n",
            "Summary: Building stateful, multi-actor applications with LLMs\n",
            "Home-page: https://www.github.com/langchain-ai/langgraph\n",
            "Author: \n",
            "Author-email: \n",
            "License: MIT\n",
            "Location: /root/.local/lib/python3.10/site-packages\n",
            "Requires: langchain-core, langgraph-checkpoint, langgraph-sdk\n",
            "Required-by: \n"
          ]
        }
      ]
    },
    {
      "cell_type": "code",
      "source": [
        "!gcloud init"
      ],
      "metadata": {
        "colab": {
          "base_uri": "https://localhost:8080/"
        },
        "id": "yh00TRbpqazW",
        "outputId": "9023fcd0-280d-4f3c-883b-560f4c89e266"
      },
      "execution_count": null,
      "outputs": [
        {
          "output_type": "stream",
          "name": "stdout",
          "text": [
            "Welcome! This command will take you through the configuration of gcloud.\n",
            "\n",
            "Settings from your current configuration [default] are:\n",
            "component_manager:\n",
            "  disable_update_check: 'True'\n",
            "compute:\n",
            "  region: us-central1\n",
            "  zone: us-central1-a\n",
            "core:\n",
            "  account: abhishek.bansal05@infosys.com\n",
            "  project: ai-cust-ca-speech01\n",
            "\n",
            "Pick configuration to use:\n",
            " [1] Re-initialize this configuration [default] with new settings \n",
            " [2] Create a new configuration\n",
            "Please enter your numeric choice:  1\n",
            "\n",
            "Your current configuration has been set to: [default]\n",
            "\n",
            "You can skip diagnostics next time by using the following flag:\n",
            "  gcloud init --skip-diagnostics\n",
            "\n",
            "Network diagnostic detects and fixes local network connection issues.\n",
            "Reachability Check passed.\n",
            "Network diagnostic passed (1/1 checks passed).\n",
            "\n",
            "Choose the account you want to use for this configuration.\n",
            "To use a federated user account, exit this command and sign in to the gcloud CLI\n",
            " with your login configuration file, then run this command again.\n",
            "\n",
            "Select an account:\n",
            " [1] abhishek.bansal05@infosys.com\n",
            " [2] Sign in with a new Google Account\n",
            " [3] Skip this step\n",
            "Please enter your numeric choice:  1\n",
            "\n",
            "You are signed in as: [abhishek.bansal05@infosys.com].\n",
            "\n",
            "Pick cloud project to use: \n",
            " [1] ai-cust-ca-speech01\n",
            " [2] Enter a project ID\n",
            " [3] Create a new project\n",
            "Please enter numeric choice or text value (must exactly match list item):  1\n",
            "\n",
            "Your current project has been set to: [ai-cust-ca-speech01].\n",
            "\n",
            "Do you want to configure a default Compute Region and Zone? (Y/n)?  Y\n",
            "\n",
            "Which Google Compute Engine zone would you like to use as project default?\n",
            "If you do not specify a zone via a command line flag while working with Compute \n",
            "Engine resources, the default is assumed.\n",
            " [1] us-east1-b\n",
            " [2] us-east1-c\n",
            " [3] us-east1-d\n",
            " [4] us-east4-c\n",
            " [5] us-east4-b\n",
            " [6] us-east4-a\n",
            " [7] us-central1-c\n",
            " [8] us-central1-a\n",
            " [9] us-central1-f\n",
            " [10] us-central1-b\n",
            " [11] us-west1-b\n",
            " [12] us-west1-c\n",
            " [13] us-west1-a\n",
            " [14] europe-west4-a\n",
            " [15] europe-west4-b\n",
            " [16] europe-west4-c\n",
            " [17] europe-west1-b\n",
            " [18] europe-west1-d\n",
            " [19] europe-west1-c\n",
            " [20] europe-west3-c\n",
            " [21] europe-west3-a\n",
            " [22] europe-west3-b\n",
            " [23] europe-west2-c\n",
            " [24] europe-west2-b\n",
            " [25] europe-west2-a\n",
            " [26] asia-east1-b\n",
            " [27] asia-east1-a\n",
            " [28] asia-east1-c\n",
            " [29] asia-southeast1-b\n",
            " [30] asia-southeast1-a\n",
            " [31] asia-southeast1-c\n",
            " [32] asia-northeast1-b\n",
            " [33] asia-northeast1-c\n",
            " [34] asia-northeast1-a\n",
            " [35] asia-south1-c\n",
            " [36] asia-south1-b\n",
            " [37] asia-south1-a\n",
            " [38] australia-southeast1-b\n",
            " [39] australia-southeast1-c\n",
            " [40] australia-southeast1-a\n",
            " [41] southamerica-east1-b\n",
            " [42] southamerica-east1-c\n",
            " [43] southamerica-east1-a\n",
            " [44] africa-south1-a\n",
            " [45] africa-south1-b\n",
            " [46] africa-south1-c\n",
            " [47] asia-east2-a\n",
            " [48] asia-east2-b\n",
            " [49] asia-east2-c\n",
            " [50] asia-northeast2-a\n",
            "Did not print [78] options.\n",
            "Too many options [128]. Enter \"list\" at prompt to print choices fully.\n",
            "Please enter numeric choice or text value (must exactly match list item):  8\n",
            "\n",
            "Your project default Compute Engine zone has been set to [us-central1-a].\n",
            "You can change it by running [gcloud config set compute/zone NAME].\n",
            "\n",
            "Your project default Compute Engine region has been set to [us-central1].\n",
            "You can change it by running [gcloud config set compute/region NAME].\n",
            "\n",
            "The Google Cloud CLI is configured and ready to use!\n",
            "\n",
            "* Commands that require authentication will use abhishek.bansal05@infosys.com by default\n",
            "* Commands will reference project `ai-cust-ca-speech01` by default\n",
            "* Compute Engine commands will use region `us-central1` by default\n",
            "* Compute Engine commands will use zone `us-central1-a` by default\n",
            "\n",
            "Run `gcloud help config` to learn how to change individual settings\n",
            "\n",
            "This gcloud configuration is called [default]. You can create additional configurations if you work with multiple accounts and/or projects.\n",
            "Run `gcloud topic configurations` to learn more.\n",
            "\n",
            "Some things to try next:\n",
            "\n",
            "* Run `gcloud --help` to see the Cloud Platform services you can interact with. And run `gcloud help COMMAND` to get help on any gcloud command.\n",
            "* Run `gcloud topic --help` to learn about advanced features of the CLI like arg files and output formatting\n",
            "* Run `gcloud cheat-sheet` to see a roster of go-to `gcloud` commands.\n"
          ]
        }
      ]
    },
    {
      "cell_type": "code",
      "source": [
        "!gcloud auth application-default login"
      ],
      "metadata": {
        "colab": {
          "base_uri": "https://localhost:8080/"
        },
        "id": "tt744wGTqq8G",
        "outputId": "81ea10f3-1535-4799-8eed-cc13aea2a5a1"
      },
      "execution_count": null,
      "outputs": [
        {
          "output_type": "stream",
          "name": "stdout",
          "text": [
            "\n",
            "You are running on a Google Compute Engine virtual machine.\n",
            "The service credentials associated with this virtual machine\n",
            "will automatically be used by Application Default\n",
            "Credentials, so it is not necessary to use this command.\n",
            "\n",
            "If you decide to proceed anyway, your user credentials may be visible\n",
            "to others with access to this virtual machine. Are you sure you want\n",
            "to authenticate with your personal account?\n",
            "\n",
            "Do you want to continue (Y/n)?  Y\n",
            "\n",
            "Go to the following link in your browser, and complete the sign-in prompts:\n",
            "\n",
            "    https://accounts.google.com/o/oauth2/auth?response_type=code&client_id=764086051850-6qr4p6gpi6hn506pt8ejuq83di341hur.apps.googleusercontent.com&redirect_uri=https%3A%2F%2Fsdk.cloud.google.com%2Fapplicationdefaultauthcode.html&scope=openid+https%3A%2F%2Fwww.googleapis.com%2Fauth%2Fuserinfo.email+https%3A%2F%2Fwww.googleapis.com%2Fauth%2Fcloud-platform+https%3A%2F%2Fwww.googleapis.com%2Fauth%2Fsqlservice.login&state=1yUIJYIpNsVwnLKJbls4fIlcGkclf1&prompt=consent&token_usage=remote&access_type=offline&code_challenge=VP3MceIrgP-3kkQFGBuw3ZvOgZUXhcqHgBPaCrKXuzU&code_challenge_method=S256\n",
            "\n",
            "Once finished, enter the verification code provided in your browser: 4/0AQSTgQG_exb0Ni5D6smtDbTM_wJKOqCemCWEAHiY6jjs20JTAgGp8iTT2Esc99C_hCN2gg\n",
            "\n",
            "Credentials saved to file: [/content/.config/application_default_credentials.json]\n",
            "\n",
            "These credentials will be used by any library that requests Application Default Credentials (ADC).\n",
            "\n",
            "Quota project \"ai-cust-ca-speech01\" was added to ADC which can be used by Google client libraries for billing and quota. Note that some services may still bill the project owning the resource.\n"
          ]
        }
      ]
    },
    {
      "cell_type": "markdown",
      "metadata": {
        "id": "SbmM4z7FOBpM"
      },
      "source": [
        "<div class=\"alert alert-block alert-warning\">\n",
        "<b>⚠️ The kernel is going to restart. Wait until it's finished before continuing to the next step. ⚠️</b>\n",
        "</div>"
      ]
    },
    {
      "cell_type": "markdown",
      "metadata": {
        "id": "DF4l8DTdWgPY"
      },
      "source": [
        "### Set Google Cloud project information and initialize Vertex AI SDK\n",
        "\n",
        "To get started using Vertex AI, you must have an existing Google Cloud project and [enable the Vertex AI API](https://console.cloud.google.com/flows/enableapi?apiid=aiplatform.googleapis.com).\n",
        "\n",
        "Learn more about [setting up a project and a development environment](https://cloud.google.com/vertex-ai/docs/start/cloud-environment)."
      ]
    },
    {
      "cell_type": "code",
      "execution_count": null,
      "metadata": {
        "id": "Nqwi-5ufWp_B"
      },
      "outputs": [],
      "source": [
        "PROJECT_ID = \"ai-cust-ca-speech01\"  # @param {type:\"string\"}\n",
        "LOCATION = \"us-central1\"  # @param {type:\"string\"}\n",
        "STAGING_BUCKET = \"gs://langgraphvoiceagent\"  # @param {type:\"string\"}\n",
        "\n",
        "import vertexai\n",
        "\n",
        "vertexai.init(project=PROJECT_ID, location=LOCATION, staging_bucket=STAGING_BUCKET)"
      ]
    },
    {
      "cell_type": "code",
      "source": [
        "!pip install --upgrade google-cloud-speech"
      ],
      "metadata": {
        "colab": {
          "base_uri": "https://localhost:8080/"
        },
        "id": "K-nuqIpkCMkA",
        "outputId": "66503910-c974-428f-f72c-dd152434871d"
      },
      "execution_count": null,
      "outputs": [
        {
          "output_type": "stream",
          "name": "stdout",
          "text": [
            "Requirement already satisfied: google-cloud-speech in /usr/local/lib/python3.10/dist-packages (2.31.1)\n",
            "Requirement already satisfied: google-api-core!=2.0.*,!=2.1.*,!=2.10.*,!=2.2.*,!=2.3.*,!=2.4.*,!=2.5.*,!=2.6.*,!=2.7.*,!=2.8.*,!=2.9.*,<3.0.0,>=1.34.1 in /usr/local/lib/python3.10/dist-packages (from google-api-core[grpc]!=2.0.*,!=2.1.*,!=2.10.*,!=2.2.*,!=2.3.*,!=2.4.*,!=2.5.*,!=2.6.*,!=2.7.*,!=2.8.*,!=2.9.*,<3.0.0,>=1.34.1->google-cloud-speech) (2.19.2)\n",
            "Requirement already satisfied: google-auth!=2.24.0,!=2.25.0,<3.0.0,>=2.14.1 in /usr/local/lib/python3.10/dist-packages (from google-cloud-speech) (2.27.0)\n",
            "Requirement already satisfied: proto-plus<2.0.0,>=1.22.3 in /usr/local/lib/python3.10/dist-packages (from google-cloud-speech) (1.25.0)\n",
            "Requirement already satisfied: protobuf!=4.21.0,!=4.21.1,!=4.21.2,!=4.21.3,!=4.21.4,!=4.21.5,<7.0.0,>=3.20.2 in /usr/local/lib/python3.10/dist-packages (from google-cloud-speech) (4.25.5)\n",
            "Requirement already satisfied: googleapis-common-protos<2.0.dev0,>=1.56.2 in /usr/local/lib/python3.10/dist-packages (from google-api-core!=2.0.*,!=2.1.*,!=2.10.*,!=2.2.*,!=2.3.*,!=2.4.*,!=2.5.*,!=2.6.*,!=2.7.*,!=2.8.*,!=2.9.*,<3.0.0,>=1.34.1->google-api-core[grpc]!=2.0.*,!=2.1.*,!=2.10.*,!=2.2.*,!=2.3.*,!=2.4.*,!=2.5.*,!=2.6.*,!=2.7.*,!=2.8.*,!=2.9.*,<3.0.0,>=1.34.1->google-cloud-speech) (1.66.0)\n",
            "Requirement already satisfied: requests<3.0.0.dev0,>=2.18.0 in /usr/local/lib/python3.10/dist-packages (from google-api-core!=2.0.*,!=2.1.*,!=2.10.*,!=2.2.*,!=2.3.*,!=2.4.*,!=2.5.*,!=2.6.*,!=2.7.*,!=2.8.*,!=2.9.*,<3.0.0,>=1.34.1->google-api-core[grpc]!=2.0.*,!=2.1.*,!=2.10.*,!=2.2.*,!=2.3.*,!=2.4.*,!=2.5.*,!=2.6.*,!=2.7.*,!=2.8.*,!=2.9.*,<3.0.0,>=1.34.1->google-cloud-speech) (2.32.3)\n",
            "Requirement already satisfied: grpcio<2.0dev,>=1.33.2 in /usr/local/lib/python3.10/dist-packages (from google-api-core[grpc]!=2.0.*,!=2.1.*,!=2.10.*,!=2.2.*,!=2.3.*,!=2.4.*,!=2.5.*,!=2.6.*,!=2.7.*,!=2.8.*,!=2.9.*,<3.0.0,>=1.34.1->google-cloud-speech) (1.69.0)\n",
            "Requirement already satisfied: grpcio-status<2.0.dev0,>=1.33.2 in /usr/local/lib/python3.10/dist-packages (from google-api-core[grpc]!=2.0.*,!=2.1.*,!=2.10.*,!=2.2.*,!=2.3.*,!=2.4.*,!=2.5.*,!=2.6.*,!=2.7.*,!=2.8.*,!=2.9.*,<3.0.0,>=1.34.1->google-cloud-speech) (1.62.3)\n",
            "Requirement already satisfied: cachetools<6.0,>=2.0.0 in /usr/local/lib/python3.10/dist-packages (from google-auth!=2.24.0,!=2.25.0,<3.0.0,>=2.14.1->google-cloud-speech) (5.5.0)\n",
            "Requirement already satisfied: pyasn1-modules>=0.2.1 in /usr/local/lib/python3.10/dist-packages (from google-auth!=2.24.0,!=2.25.0,<3.0.0,>=2.14.1->google-cloud-speech) (0.4.1)\n",
            "Requirement already satisfied: rsa<5,>=3.1.4 in /usr/local/lib/python3.10/dist-packages (from google-auth!=2.24.0,!=2.25.0,<3.0.0,>=2.14.1->google-cloud-speech) (4.9)\n",
            "Requirement already satisfied: pyasn1<0.7.0,>=0.4.6 in /usr/local/lib/python3.10/dist-packages (from pyasn1-modules>=0.2.1->google-auth!=2.24.0,!=2.25.0,<3.0.0,>=2.14.1->google-cloud-speech) (0.6.1)\n",
            "Requirement already satisfied: charset-normalizer<4,>=2 in /usr/local/lib/python3.10/dist-packages (from requests<3.0.0.dev0,>=2.18.0->google-api-core!=2.0.*,!=2.1.*,!=2.10.*,!=2.2.*,!=2.3.*,!=2.4.*,!=2.5.*,!=2.6.*,!=2.7.*,!=2.8.*,!=2.9.*,<3.0.0,>=1.34.1->google-api-core[grpc]!=2.0.*,!=2.1.*,!=2.10.*,!=2.2.*,!=2.3.*,!=2.4.*,!=2.5.*,!=2.6.*,!=2.7.*,!=2.8.*,!=2.9.*,<3.0.0,>=1.34.1->google-cloud-speech) (3.4.1)\n",
            "Requirement already satisfied: idna<4,>=2.5 in /usr/local/lib/python3.10/dist-packages (from requests<3.0.0.dev0,>=2.18.0->google-api-core!=2.0.*,!=2.1.*,!=2.10.*,!=2.2.*,!=2.3.*,!=2.4.*,!=2.5.*,!=2.6.*,!=2.7.*,!=2.8.*,!=2.9.*,<3.0.0,>=1.34.1->google-api-core[grpc]!=2.0.*,!=2.1.*,!=2.10.*,!=2.2.*,!=2.3.*,!=2.4.*,!=2.5.*,!=2.6.*,!=2.7.*,!=2.8.*,!=2.9.*,<3.0.0,>=1.34.1->google-cloud-speech) (3.10)\n",
            "Requirement already satisfied: urllib3<3,>=1.21.1 in /usr/local/lib/python3.10/dist-packages (from requests<3.0.0.dev0,>=2.18.0->google-api-core!=2.0.*,!=2.1.*,!=2.10.*,!=2.2.*,!=2.3.*,!=2.4.*,!=2.5.*,!=2.6.*,!=2.7.*,!=2.8.*,!=2.9.*,<3.0.0,>=1.34.1->google-api-core[grpc]!=2.0.*,!=2.1.*,!=2.10.*,!=2.2.*,!=2.3.*,!=2.4.*,!=2.5.*,!=2.6.*,!=2.7.*,!=2.8.*,!=2.9.*,<3.0.0,>=1.34.1->google-cloud-speech) (2.3.0)\n",
            "Requirement already satisfied: certifi>=2017.4.17 in /usr/local/lib/python3.10/dist-packages (from requests<3.0.0.dev0,>=2.18.0->google-api-core!=2.0.*,!=2.1.*,!=2.10.*,!=2.2.*,!=2.3.*,!=2.4.*,!=2.5.*,!=2.6.*,!=2.7.*,!=2.8.*,!=2.9.*,<3.0.0,>=1.34.1->google-api-core[grpc]!=2.0.*,!=2.1.*,!=2.10.*,!=2.2.*,!=2.3.*,!=2.4.*,!=2.5.*,!=2.6.*,!=2.7.*,!=2.8.*,!=2.9.*,<3.0.0,>=1.34.1->google-cloud-speech) (2024.12.14)\n"
          ]
        }
      ]
    },
    {
      "cell_type": "code",
      "source": [
        "pip show google-cloud-speech"
      ],
      "metadata": {
        "colab": {
          "base_uri": "https://localhost:8080/"
        },
        "id": "zaN_giTF5HRc",
        "outputId": "a9b26440-9c6d-4448-9018-45fe18c9fd52"
      },
      "execution_count": null,
      "outputs": [
        {
          "output_type": "stream",
          "name": "stdout",
          "text": [
            "Name: google-cloud-speech\n",
            "Version: 2.31.1\n",
            "Summary: Google Cloud Speech API client library\n",
            "Home-page: https://github.com/googleapis/google-cloud-python/tree/main/packages/google-cloud-speech\n",
            "Author: Google LLC\n",
            "Author-email: googleapis-packages@google.com\n",
            "License: Apache 2.0\n",
            "Location: /usr/local/lib/python3.10/dist-packages\n",
            "Requires: google-api-core, google-auth, proto-plus, protobuf\n",
            "Required-by: \n"
          ]
        }
      ]
    },
    {
      "cell_type": "markdown",
      "metadata": {
        "id": "EdvJRUWRNGHE"
      },
      "source": [
        "## Building and deploying a LangGraph app on Reasoning Engine\n",
        "\n",
        "In the following sections, we'll walk through the process of building and deploying a LangGraph application using Reasoning Engine in Vertex AI."
      ]
    },
    {
      "cell_type": "markdown",
      "metadata": {
        "id": "3b3004f33544"
      },
      "source": [
        "### Import libraries\n",
        "\n",
        "Import the necessary Python libraries. These libraries provide the tools we need to interact with LangGraph, Vertex AI, and other components of our application."
      ]
    },
    {
      "cell_type": "code",
      "source": [
        "from typing import Literal\n",
        "from langchain_core.messages import BaseMessage, HumanMessage\n",
        "from langchain_core.tools import tool\n",
        "from langchain_google_vertexai import ChatVertexAI\n",
        "from langgraph.graph import END, MessageGraph\n",
        "from langgraph.prebuilt import ToolNode\n",
        "from vertexai import agent_engines\n"
      ],
      "metadata": {
        "id": "YxOVlglVDZ2_"
      },
      "execution_count": null,
      "outputs": []
    },
    {
      "cell_type": "code",
      "source": [
        "!pip install google-api-core"
      ],
      "metadata": {
        "colab": {
          "base_uri": "https://localhost:8080/"
        },
        "id": "bsm2HQ2GmkAw",
        "outputId": "b7c7d4ca-962f-4ea7-f9f3-02046d777786"
      },
      "execution_count": null,
      "outputs": [
        {
          "output_type": "stream",
          "name": "stdout",
          "text": [
            "Requirement already satisfied: google-api-core in /usr/local/lib/python3.10/dist-packages (2.19.2)\n",
            "Requirement already satisfied: googleapis-common-protos<2.0.dev0,>=1.56.2 in /usr/local/lib/python3.10/dist-packages (from google-api-core) (1.66.0)\n",
            "Requirement already satisfied: protobuf!=3.20.0,!=3.20.1,!=4.21.0,!=4.21.1,!=4.21.2,!=4.21.3,!=4.21.4,!=4.21.5,<6.0.0.dev0,>=3.19.5 in /usr/local/lib/python3.10/dist-packages (from google-api-core) (4.25.5)\n",
            "Requirement already satisfied: proto-plus<2.0.0dev,>=1.22.3 in /usr/local/lib/python3.10/dist-packages (from google-api-core) (1.25.0)\n",
            "Requirement already satisfied: google-auth<3.0.dev0,>=2.14.1 in /usr/local/lib/python3.10/dist-packages (from google-api-core) (2.27.0)\n",
            "Requirement already satisfied: requests<3.0.0.dev0,>=2.18.0 in /usr/local/lib/python3.10/dist-packages (from google-api-core) (2.32.3)\n",
            "Requirement already satisfied: cachetools<6.0,>=2.0.0 in /usr/local/lib/python3.10/dist-packages (from google-auth<3.0.dev0,>=2.14.1->google-api-core) (5.5.0)\n",
            "Requirement already satisfied: pyasn1-modules>=0.2.1 in /usr/local/lib/python3.10/dist-packages (from google-auth<3.0.dev0,>=2.14.1->google-api-core) (0.4.1)\n",
            "Requirement already satisfied: rsa<5,>=3.1.4 in /usr/local/lib/python3.10/dist-packages (from google-auth<3.0.dev0,>=2.14.1->google-api-core) (4.9)\n",
            "Requirement already satisfied: charset-normalizer<4,>=2 in /usr/local/lib/python3.10/dist-packages (from requests<3.0.0.dev0,>=2.18.0->google-api-core) (3.4.1)\n",
            "Requirement already satisfied: idna<4,>=2.5 in /usr/local/lib/python3.10/dist-packages (from requests<3.0.0.dev0,>=2.18.0->google-api-core) (3.10)\n",
            "Requirement already satisfied: urllib3<3,>=1.21.1 in /usr/local/lib/python3.10/dist-packages (from requests<3.0.0.dev0,>=2.18.0->google-api-core) (2.3.0)\n",
            "Requirement already satisfied: certifi>=2017.4.17 in /usr/local/lib/python3.10/dist-packages (from requests<3.0.0.dev0,>=2.18.0->google-api-core) (2024.12.14)\n",
            "Requirement already satisfied: pyasn1<0.7.0,>=0.4.6 in /usr/local/lib/python3.10/dist-packages (from pyasn1-modules>=0.2.1->google-auth<3.0.dev0,>=2.14.1->google-api-core) (0.6.1)\n"
          ]
        }
      ]
    },
    {
      "cell_type": "markdown",
      "source": [
        "# Define tools\n",
        "You'll start by defining the a tool for your LangGraph application. You'll define a custom Python function that act as tools in our agentic application.\n",
        "\n",
        "In this case, we'll define a simple tool that returns a product description based on the product that the user asks about. In reality, you can write functions to call APIs, query databases, or anything other tasks that you might want your agent to be able to use."
      ],
      "metadata": {
        "id": "Y3auLEnaDlbx"
      }
    },
    {
      "cell_type": "code",
      "source": [
        "import os\n",
        "from google.cloud.speech_v2 import SpeechClient\n",
        "from google.cloud.speech_v2.types import cloud_speech\n",
        "from google.api_core.exceptions import GoogleAPICallError\n",
        "\n",
        "@tool\n",
        "def speech_to_text(\n",
        "    audio_uri: str,\n",
        ") -> str:\n",
        "    \"\"\"Transcribes audio from a Google Cloud Storage URI and returns the text.\"\"\"\n",
        "    client = SpeechClient()\n",
        "\n",
        "    config = cloud_speech.RecognitionConfig(\n",
        "        auto_decoding_config=cloud_speech.AutoDetectDecodingConfig(),\n",
        "        language_codes=[\"en-US\"],\n",
        "        model=\"long\",\n",
        "        features=cloud_speech.RecognitionFeatures(\n",
        "            enable_automatic_punctuation=True,\n",
        "            enable_spoken_punctuation=True,\n",
        "            enable_spoken_emojis=True,\n",
        "        ),\n",
        "    )\n",
        "\n",
        "    file_metadata = cloud_speech.BatchRecognizeFileMetadata(uri=audio_uri)\n",
        "\n",
        "    request = cloud_speech.BatchRecognizeRequest(\n",
        "        recognizer=\"projects/649348831413/locations/global/recognizers/speech-to-text\",\n",
        "        config=config,\n",
        "        files=[file_metadata],\n",
        "        recognition_output_config=cloud_speech.RecognitionOutputConfig(\n",
        "            inline_response_config=cloud_speech.InlineOutputConfig(),\n",
        "        ),\n",
        "    )\n",
        "\n",
        "    try:\n",
        "        operation = client.batch_recognize(request=request)\n",
        "        response = operation.result(timeout=120)\n",
        "\n",
        "        full_transcript = \"\"\n",
        "        if audio_uri in response.results:\n",
        "            for result in response.results[audio_uri].transcript.results:\n",
        "                if result.alternatives: #Check if alternatives list is not empty\n",
        "                    full_transcript += result.alternatives[0].transcript\n",
        "\n",
        "        return full_transcript\n",
        "\n",
        "    except GoogleAPICallError as e:\n",
        "        print(f\"Google API Error: {e}\")\n",
        "        return \"\"\n",
        "    except Exception as e:\n",
        "        print(f\"Unexpected Error: {e}\")\n",
        "        return \"\""
      ],
      "metadata": {
        "id": "mbhAwZlh-AL_"
      },
      "execution_count": null,
      "outputs": []
    },
    {
      "cell_type": "code",
      "source": [
        "speech_to_text('gs://langgraphvoiceagent/testing15mb.flac')"
      ],
      "metadata": {
        "colab": {
          "base_uri": "https://localhost:8080/",
          "height": 123
        },
        "id": "AyaABORoJU4X",
        "outputId": "98629e1d-b056-48a2-98f6-9a7cab524a16"
      },
      "execution_count": null,
      "outputs": [
        {
          "output_type": "execute_result",
          "data": {
            "text/plain": [
              "\"Um, so so Campbell's not playing for them, he's injured, isn't he? Yeah, but actually cold is yeah. Single got a game coming games coming up? Haven't they? I think. So it's really the pain there. I think they're playing Serbia or something. Then, oh, Slovakia in the world cup or something. And you do you manage to get to see Arsenal? Very often? Well, I don't see, I've never actually been to watch A Match, right? But TV. And if you got Skye and things you yeah, guys. Yeah. Do you like any other sports? Yeah. Basket ball. All right. Yeah he play that. Yeah. My friend's in school and in the park do you have a school team? Yeah, but more in that school football team, are you? Yeah. Right. How are you doing? How are you listen to back right here? Are you quick? Yeah, you can run 35. Yeah. And how's your team doing well, we've won.Two of our games. And you join one, we've lost one but it's the end of the season now. Presumably yeah don't play football anymore. And apart from sport. What sort of things do you like doing out of school was, you know, Computer games or watching? Yeah, what sort of what sort of game did you like? Hmm. I have a PlayStation 2 action adventure. Right? I go on the internet and computer, right? He's a computer. What do you do on the internet? You just homework or do you? Yes, sometimes home, finding information on talking to my friends and MSN Messenger. All right, and that work. If someone has an email address and they have MSM messenger when they get it, they had the email address and makeup and then if you have the same, you can talk to them. What, like, like the same at the same time. Something. Yeah, he was sending it like, about 2 seconds. Can you have more than two people doing? Yeah, same time. Yeah.Taken as good idea. Yeah. Um what about holidays? Where's the favorite place you've ever been on holiday? Florida. Is Disney World. Yeah, what was it like I was fine. Yeah, and I went to, I went on the hawk, the ride, the hawk, the hawk? Yeah, the red. It's a, it's one of the biggest ads and Survive in this really fast? I just really fast and this high up. When did you go to Florida? Two weeks. What else did you do? Just, that's why I stayed with them second week. In the first week, I went shopping and went to the theme park. And then for the second year guys, visit my family, and I stayed there for me where abouts in Florida, was it? What? The theme park, my family. All right? Yeah. How did you travel between the two plane?How long would it take? All right. What else we talked about? Come back to your Playstation 2. Yeah. So you like action adventure games. What's your favorite one? Varsity, I'm sorry. Good content. Theft Auto Varsity. All right? Yeah. Yeah. What do you have to do in that? Oh Zack. Yo this guy money so you have to go on doing missions for people so you can earn the money right? You're driving or yeah, you drive. and he, Thought that if you do it and then they give you money. It's not the one that setting in London. Right, you got that? Yeah. She's Grand Theft Auto. Yeah my city. That's a number of them on there. Yeah he got more. Expensive. So I mean do you get say pocket money or do people buy them for you for president? So people buy them for me sometimes. Yeah.When's your birthday? Remember that? You get another. What's your, what's your favorite subject at school? P. J drama. Right? They're the fun ones where you don't have to do that much writing you don't like right? Yeah. so they're presumably not examined with SATs so you see, yeah, we have subjects. you get into the universities if you know what language actually because they said this good to choose up and then I chose graphics and ICT which is at the base of computers because I like To do the English. Massive science. Yeah. And he but you only do that for one way, yeah, right.\""
            ],
            "application/vnd.google.colaboratory.intrinsic+json": {
              "type": "string"
            }
          },
          "metadata": {},
          "execution_count": 69
        }
      ]
    },
    {
      "cell_type": "markdown",
      "metadata": {
        "id": "be70714d9fae"
      },
      "source": [
        "### Define router\n",
        "\n",
        "Then, you'll define a router to control the flow of the conversation, determining which tool to use based on user input or the state of the interaction. Here we'll use a simple router setup, and you can customize the behavior of your router to handle multiple tools, custom logic, or multi-agent workflows."
      ]
    },
    {
      "cell_type": "code",
      "source": [
        "def router(state: list[BaseMessage]) -> Literal[\"speech_to_text\", \"__end__\"]:\n",
        "    \"\"\"Initiates product details retrieval if the user asks for a product.\"\"\"\n",
        "    # Get the tool_calls from the last message in the conversation history.\n",
        "    tool_calls = state[-1].tool_calls\n",
        "    # If there are any tool_calls\n",
        "    if len(tool_calls):\n",
        "        # Return the name of the tool to be called\n",
        "        return \"speech_to_text\"\n",
        "    else:\n",
        "        # End the conversation flow.\n",
        "        return \"__end__\""
      ],
      "metadata": {
        "id": "Cs_1Iudq86w8"
      },
      "execution_count": null,
      "outputs": []
    },
    {
      "cell_type": "markdown",
      "metadata": {
        "id": "d32ce189d989"
      },
      "source": [
        "### Define LangGraph application\n",
        "\n",
        "Now you'll bring everything together to define your LangGraph application as a custom template in Reasoning Engine.\n",
        "\n",
        "This application will use the tool and router that you just defined. LangGraph provides a powerful way to structure these interactions and leverage the capabilities of LLMs."
      ]
    },
    {
      "cell_type": "code",
      "source": [
        "class SimpleLangGraphApp:\n",
        "    def __init__(self, project: str, location: str) -> None:\n",
        "        self.project_id = project\n",
        "        self.location = location\n",
        "\n",
        "    # The set_up method is used to define application initialization logic\n",
        "    def set_up(self) -> None:\n",
        "        model = ChatVertexAI(model=\"gemini-1.5-pro\")\n",
        "\n",
        "        builder = MessageGraph()\n",
        "\n",
        "        model_with_tools = model.bind_tools([speech_to_text])\n",
        "        builder.add_node(\"tools\", model_with_tools)\n",
        "\n",
        "        tool_node = ToolNode([speech_to_text])\n",
        "        builder.add_node(\"speech_to_text\", tool_node)\n",
        "        builder.add_edge(\"speech_to_text\", END)\n",
        "\n",
        "        builder.set_entry_point(\"tools\")\n",
        "        builder.add_conditional_edges(\"tools\", router)\n",
        "\n",
        "        self.runnable = builder.compile()\n",
        "\n",
        "    # The query method will be used to send inputs to the agent\n",
        "    def query(self, audio_file_path: str):\n",
        "        \"\"\"Query the application.\n",
        "\n",
        "        Args:\n",
        "            message: The user message.\n",
        "\n",
        "        Returns:\n",
        "            str: The LLM response.\n",
        "        \"\"\"\n",
        "        chat_history = self.runnable.invoke(HumanMessage(audio_file_path))\n",
        "\n",
        "        return chat_history[-1].content"
      ],
      "metadata": {
        "id": "TYDv_ZYOEfUk"
      },
      "execution_count": null,
      "outputs": []
    },
    {
      "cell_type": "markdown",
      "metadata": {
        "id": "be06c89a87aa"
      },
      "source": [
        "### Local testing\n",
        "\n",
        "In this section, you'll test your LangGraph app locally before deploying it to ensure that it behaves as expected before deployment."
      ]
    },
    {
      "cell_type": "code",
      "source": [
        "agent = SimpleLangGraphApp(project=PROJECT_ID, location=LOCATION)\n",
        "agent.set_up()\n"
      ],
      "metadata": {
        "id": "30YazGsVL80J"
      },
      "execution_count": null,
      "outputs": []
    },
    {
      "cell_type": "code",
      "execution_count": null,
      "metadata": {
        "id": "fc70cda0aeb0",
        "outputId": "6d803d03-9fef-4a09-9ed3-8a300a5ae5ec",
        "colab": {
          "base_uri": "https://localhost:8080/",
          "height": 71
        }
      },
      "outputs": [
        {
          "output_type": "execute_result",
          "data": {
            "text/plain": [
              "\"Alice didn't know what to say to this. It wasn't at all like conversation. She thought as he never said anything to her, in fact, his last remark was evidently addressed to it a tree. So she stood and softly repeated to herself. Humpty Dumpty, sat on a wall Humpty Dumpty. Had a great fall. All the king's horses and all the king's men couldn't put Humpty. Dumpty in his place again.\""
            ],
            "application/vnd.google.colaboratory.intrinsic+json": {
              "type": "string"
            }
          },
          "metadata": {},
          "execution_count": 73
        }
      ],
      "source": [
        "agent.query(audio_file_path=\"gs://langgraphvoiceagent/HumptyDumpty.flac\")"
      ]
    },
    {
      "cell_type": "markdown",
      "metadata": {
        "id": "5ccd4227e8c8"
      },
      "source": [
        "### Deploy your LangGraph app\n",
        "\n",
        "Now that you verified that your LangGraph application is working locally, it's time to deploy it to Reasoning Engine! This will make your application accessible remotely and allow you to integrate it into larger systems or provide it as a service."
      ]
    },
    {
      "cell_type": "code",
      "source": [
        "remote_agent = agent_engines.create(\n",
        "    SimpleLangGraphApp(project=PROJECT_ID, location=LOCATION),\n",
        "    requirements=[\n",
        "        \"google-cloud-aiplatform[agent_engines,langchain]\",\n",
        "        \"cloudpickle==3.0.0\",\n",
        "        \"pydantic>=2.10\",\n",
        "        \"langgraph\",\n",
        "        \"httpx\",\n",
        "        \"google-api-core\",\n",
        "        \"google-cloud-speech==2.31.0\",\n",
        "    ],\n",
        "    display_name=\"Speech-to-Text Agent on Agent Engine with LangGraph\",\n",
        "    description=\"This is a sample custom application in Agent Engine that uses LangGraph\",\n",
        "    extra_packages=[],\n",
        ")"
      ],
      "metadata": {
        "colab": {
          "base_uri": "https://localhost:8080/"
        },
        "id": "PIjZA-keMlgc",
        "outputId": "668a35fa-c39b-4adf-e5b8-0c03eac6c3e3"
      },
      "execution_count": null,
      "outputs": [
        {
          "output_type": "stream",
          "name": "stderr",
          "text": [
            "INFO:vertexai.agent_engines:Identified the following requirements: {'cloudpickle': '3.0.0'}\n",
            "INFO:vertexai.agent_engines:The final list of requirements: ['google-cloud-aiplatform[agent_engines,langchain]', 'cloudpickle==3.0.0', 'pydantic>=2.10', 'langgraph', 'httpx', 'google-api-core', 'google-cloud-speech==2.31.0']\n",
            "INFO:vertexai.agent_engines:Using bucket langgraphvoiceagent\n",
            "INFO:vertexai.agent_engines:Wrote to gs://langgraphvoiceagent/agent_engine/agent_engine.pkl\n",
            "INFO:vertexai.agent_engines:Writing to gs://langgraphvoiceagent/agent_engine/requirements.txt\n",
            "INFO:vertexai.agent_engines:Creating in-memory tarfile of extra_packages\n",
            "INFO:vertexai.agent_engines:Writing to gs://langgraphvoiceagent/agent_engine/dependencies.tar.gz\n",
            "INFO:vertexai.agent_engines:Creating AgentEngine\n",
            "INFO:vertexai.agent_engines:Create AgentEngine backing LRO: projects/649348831413/locations/us-central1/reasoningEngines/7519049848964775936/operations/1735791413267791872\n",
            "INFO:vertexai.agent_engines:View progress and logs at https://console.cloud.google.com/logs/query?project=ai-cust-ca-speech01\n",
            "INFO:vertexai.agent_engines:AgentEngine created. Resource name: projects/649348831413/locations/us-central1/reasoningEngines/7519049848964775936\n",
            "INFO:vertexai.agent_engines:To use this AgentEngine in another session:\n",
            "INFO:vertexai.agent_engines:agent_engine = vertexai.agent_engines.get('projects/649348831413/locations/us-central1/reasoningEngines/7519049848964775936')\n"
          ]
        }
      ]
    },
    {
      "cell_type": "markdown",
      "metadata": {
        "id": "b876ca670960"
      },
      "source": [
        "### Remote test\n",
        "\n",
        "Now that your LangGraph app is running on Reasoning Engine, let's test it out by querying it in the remote environment:"
      ]
    },
    {
      "cell_type": "code",
      "source": [
        "\n",
        "remote_agent.query(audio_file_path='gs://langgraphvoiceagent/HumptyDumpty.flac')"
      ],
      "metadata": {
        "colab": {
          "base_uri": "https://localhost:8080/",
          "height": 71
        },
        "id": "LkSOXYkEParz",
        "outputId": "759f3620-840e-484e-85e2-f90af6cb9cc9"
      },
      "execution_count": null,
      "outputs": [
        {
          "output_type": "execute_result",
          "data": {
            "text/plain": [
              "\"Alice didn't know what to say to this. It wasn't at all like conversation. She thought as he never said anything to her, in fact, his last remark was evidently addressed to it a tree. So she stood and softly repeated to herself. Humpty Dumpty, sat on a wall Humpty Dumpty. Had a great fall. All the king's horses and all the king's men couldn't put Humpty. Dumpty in his place again.\""
            ],
            "application/vnd.google.colaboratory.intrinsic+json": {
              "type": "string"
            }
          },
          "metadata": {},
          "execution_count": 75
        }
      ]
    },
    {
      "cell_type": "markdown",
      "metadata": {
        "id": "2a4e033321ad"
      },
      "source": [
        "## Cleaning up\n",
        "\n",
        "After you've finished experimenting, it's a good practice to clean up your cloud resources. You can delete the deployed Reasoning Engine instance to avoid any unexpected charges on your Google Cloud account."
      ]
    },
    {
      "cell_type": "code",
      "execution_count": null,
      "metadata": {
        "id": "eb5fbfa43866",
        "outputId": "012ad12e-b97d-4df5-c132-23741df2722d"
      },
      "outputs": [
        {
          "name": "stdout",
          "output_type": "stream",
          "text": [
            "Deleting ReasoningEngine : projects/your-project-number/locations/us-central1/reasoningEngines/8081041028246667264\n",
            "ReasoningEngine deleted. . Resource name: projects/your-project-number/locations/us-central1/reasoningEngines/8081041028246667264\n",
            "Deleting ReasoningEngine resource: projects/your-project-number/locations/us-central1/reasoningEngines/8081041028246667264\n",
            "Delete ReasoningEngine backing LRO: projects/your-project-number/locations/us-central1/operations/5119309405732470784\n",
            "ReasoningEngine resource projects/your-project-number/locations/us-central1/reasoningEngines/8081041028246667264 deleted.\n"
          ]
        }
      ],
      "source": [
        "remote_agent.delete()"
      ]
    },
    {
      "cell_type": "markdown",
      "source": [
        "References:\n",
        "https://github.com/GoogleCloudPlatform/generative-ai/blob/main/gemini/agent-engine/tutorial_langgraph.ipynb\n"
      ],
      "metadata": {
        "id": "5sZwAgAt5C8V"
      }
    }
  ],
  "metadata": {
    "colab": {
      "name": "speech_to_text_agent.ipynb",
      "provenance": []
    },
    "kernelspec": {
      "display_name": "Python 3",
      "name": "python3"
    }
  },
  "nbformat": 4,
  "nbformat_minor": 0
}